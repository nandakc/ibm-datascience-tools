{
 "cells": [
  {
   "cell_type": "markdown",
   "id": "8b8c1e3e-4d21-49d4-86a3-1bdb82ac784b",
   "metadata": {
    "tags": []
   },
   "source": [
    "# Data Science Tools and Ecosystem"
   ]
  },
  {
   "cell_type": "markdown",
   "id": "a7f2b2f8-4289-45b1-8624-c73e432f7f61",
   "metadata": {},
   "source": [
    "In this notebook, Data Science Tools and Ecosystem are summarized."
   ]
  },
  {
   "cell_type": "markdown",
   "id": "6011d45f-90a0-4731-8b92-ea50548e2859",
   "metadata": {},
   "source": [
    "__Objectives:__\n",
    "* List popular languages\n",
    "* List commonly used libraries\n",
    "* List data science tools\n",
    "* Demonstrate arithmetic expressions\n",
    "* Create a table"
   ]
  },
  {
   "cell_type": "markdown",
   "id": "38badb3a-3c76-4e00-82d0-f0d1e72ace11",
   "metadata": {},
   "source": [
    "Some of the popular languages that Data Scientists use are:\n",
    "1. Python\n",
    "2. R\n",
    "3. SQL\n",
    "4. Java"
   ]
  },
  {
   "cell_type": "markdown",
   "id": "05b4d6aa-a109-4323-8b62-7d6c329cb365",
   "metadata": {},
   "source": [
    "Some of the commonly used libraries used by Data Scientists include:\n",
    "1. TensorFlow\n",
    "2. PyTorch\n",
    "3. BigDL\n",
    "4. Pandas"
   ]
  },
  {
   "cell_type": "markdown",
   "id": "e5847f6b-0bba-4868-86c8-44a64275b0df",
   "metadata": {},
   "source": [
    "| Data Science Tools |\n",
    "|--------------------|\n",
    "| kibana|\n",
    "| Jupyter |\n",
    "| R Studio |\n",
    "| Spyder |"
   ]
  },
  {
   "cell_type": "markdown",
   "id": "4627ffd1-d2d9-4840-a061-d328beec246b",
   "metadata": {},
   "source": [
    "### Below are a few examples of evaluating arithmetic expressions in Python"
   ]
  },
  {
   "cell_type": "code",
   "execution_count": 1,
   "id": "1ab86c61-babd-4c28-ba2f-a19b4a4e235e",
   "metadata": {
    "tags": []
   },
   "outputs": [
    {
     "data": {
      "text/plain": [
       "17"
      ]
     },
     "execution_count": 1,
     "metadata": {},
     "output_type": "execute_result"
    }
   ],
   "source": [
    "# This a simple arithmetic expression to mutiply then add integers\n",
    "(3*4)+5"
   ]
  },
  {
   "cell_type": "code",
   "execution_count": 2,
   "id": "c94eae15-c8df-44fd-9c53-77164867f35c",
   "metadata": {
    "tags": []
   },
   "outputs": [
    {
     "data": {
      "text/plain": [
       "33.333333333333336"
      ]
     },
     "execution_count": 2,
     "metadata": {},
     "output_type": "execute_result"
    }
   ],
   "source": [
    "# This will convert 200 minutes to hours by diving by 60\n",
    "200/6"
   ]
  },
  {
   "cell_type": "markdown",
   "id": "63af3f7e-e0cf-4901-8d17-1e833d5679bd",
   "metadata": {},
   "source": [
    "## Author\n",
    "Nanda Chintalapati"
   ]
  },
  {
   "cell_type": "code",
   "execution_count": null,
   "id": "d49774d8-1a3b-4964-a4cb-371cbaa59f73",
   "metadata": {},
   "outputs": [],
   "source": []
  }
 ],
 "metadata": {
  "kernelspec": {
   "display_name": "Python",
   "language": "python",
   "name": "conda-env-python-py"
  },
  "language_info": {
   "codemirror_mode": {
    "name": "ipython",
    "version": 3
   },
   "file_extension": ".py",
   "mimetype": "text/x-python",
   "name": "python",
   "nbconvert_exporter": "python",
   "pygments_lexer": "ipython3",
   "version": "3.7.12"
  }
 },
 "nbformat": 4,
 "nbformat_minor": 5
}
